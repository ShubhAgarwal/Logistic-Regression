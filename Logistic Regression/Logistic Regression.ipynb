{
 "cells": [
  {
   "cell_type": "markdown",
   "metadata": {},
   "source": [
    "# Logistic Regression"
   ]
  },
  {
   "cell_type": "code",
   "execution_count": 1,
   "metadata": {},
   "outputs": [],
   "source": [
    "import numpy as np\n",
    "import pandas as pd\n",
    "import matplotlib.pyplot as plt"
   ]
  },
  {
   "cell_type": "code",
   "execution_count": 2,
   "metadata": {},
   "outputs": [],
   "source": [
    "class LogisticRegression():\n",
    "    \n",
    "    def __init__(self, features=1):\n",
    "        self.weights = np.zeros((features+1, 1))\n",
    "        \n",
    "        \n",
    "    def sigmoid(self, X):\n",
    "        denom = 1 + np.exp(-X)\n",
    "        return (1/denom)\n",
    "    \n",
    "    \n",
    "    def cost(self, X, y, n):\n",
    "        H = X.dot(self.weights)\n",
    "        H = self.sigmoid(H)\n",
    "        cost = -(y * np.log(H)) - ((1-y) * np.log(1-H))\n",
    "        cost = (np.sum(cost))/n\n",
    "        return cost\n",
    "    \n",
    "    \n",
    "    def deltaJtheta(self, X, y, n):\n",
    "        H = X.dot(self.weights)\n",
    "        H = self.sigmoid(H)\n",
    "        error = H-y\n",
    "        error = error * X\n",
    "        return (np.sum(error, axis=0)/n).reshape((-1,1))\n",
    "    \n",
    "    \n",
    "    def gradientDescent(self, X, y, alpha, n):\n",
    "        delj = self.deltaJtheta(X, y, n)\n",
    "        self.weights -= (alpha * delj)\n",
    "        \n",
    "        \n",
    "    def fit(self, X, y, epochs):\n",
    "        n = X.shape[0]\n",
    "        for i in range(epochs+1):\n",
    "            self.gradientDescent(X, y, 0.001, n)\n",
    "            if(i%1000000 == 0):\n",
    "                print('Loss: ', self.cost(X, y, n))\n",
    "                \n",
    "                \n",
    "    def predict(self, X):\n",
    "        y = X.dot(self.weights)\n",
    "        y = self.sigmoid(y)\n",
    "        return y\n",
    "                \n",
    "\n",
    "    def printweights(self):\n",
    "        return self.weights\n",
    "        "
   ]
  },
  {
   "cell_type": "code",
   "execution_count": 3,
   "metadata": {},
   "outputs": [],
   "source": [
    "data = pd.read_csv('ex2data1.txt', header=None)"
   ]
  },
  {
   "cell_type": "code",
   "execution_count": 4,
   "metadata": {},
   "outputs": [
    {
     "data": {
      "text/html": [
       "<div>\n",
       "<style scoped>\n",
       "    .dataframe tbody tr th:only-of-type {\n",
       "        vertical-align: middle;\n",
       "    }\n",
       "\n",
       "    .dataframe tbody tr th {\n",
       "        vertical-align: top;\n",
       "    }\n",
       "\n",
       "    .dataframe thead th {\n",
       "        text-align: right;\n",
       "    }\n",
       "</style>\n",
       "<table border=\"1\" class=\"dataframe\">\n",
       "  <thead>\n",
       "    <tr style=\"text-align: right;\">\n",
       "      <th></th>\n",
       "      <th>0</th>\n",
       "      <th>1</th>\n",
       "      <th>2</th>\n",
       "    </tr>\n",
       "  </thead>\n",
       "  <tbody>\n",
       "    <tr>\n",
       "      <th>0</th>\n",
       "      <td>34.623660</td>\n",
       "      <td>78.024693</td>\n",
       "      <td>0</td>\n",
       "    </tr>\n",
       "    <tr>\n",
       "      <th>1</th>\n",
       "      <td>30.286711</td>\n",
       "      <td>43.894998</td>\n",
       "      <td>0</td>\n",
       "    </tr>\n",
       "    <tr>\n",
       "      <th>2</th>\n",
       "      <td>35.847409</td>\n",
       "      <td>72.902198</td>\n",
       "      <td>0</td>\n",
       "    </tr>\n",
       "    <tr>\n",
       "      <th>3</th>\n",
       "      <td>60.182599</td>\n",
       "      <td>86.308552</td>\n",
       "      <td>1</td>\n",
       "    </tr>\n",
       "    <tr>\n",
       "      <th>4</th>\n",
       "      <td>79.032736</td>\n",
       "      <td>75.344376</td>\n",
       "      <td>1</td>\n",
       "    </tr>\n",
       "    <tr>\n",
       "      <th>...</th>\n",
       "      <td>...</td>\n",
       "      <td>...</td>\n",
       "      <td>...</td>\n",
       "    </tr>\n",
       "    <tr>\n",
       "      <th>95</th>\n",
       "      <td>83.489163</td>\n",
       "      <td>48.380286</td>\n",
       "      <td>1</td>\n",
       "    </tr>\n",
       "    <tr>\n",
       "      <th>96</th>\n",
       "      <td>42.261701</td>\n",
       "      <td>87.103851</td>\n",
       "      <td>1</td>\n",
       "    </tr>\n",
       "    <tr>\n",
       "      <th>97</th>\n",
       "      <td>99.315009</td>\n",
       "      <td>68.775409</td>\n",
       "      <td>1</td>\n",
       "    </tr>\n",
       "    <tr>\n",
       "      <th>98</th>\n",
       "      <td>55.340018</td>\n",
       "      <td>64.931938</td>\n",
       "      <td>1</td>\n",
       "    </tr>\n",
       "    <tr>\n",
       "      <th>99</th>\n",
       "      <td>74.775893</td>\n",
       "      <td>89.529813</td>\n",
       "      <td>1</td>\n",
       "    </tr>\n",
       "  </tbody>\n",
       "</table>\n",
       "<p>100 rows × 3 columns</p>\n",
       "</div>"
      ],
      "text/plain": [
       "            0          1  2\n",
       "0   34.623660  78.024693  0\n",
       "1   30.286711  43.894998  0\n",
       "2   35.847409  72.902198  0\n",
       "3   60.182599  86.308552  1\n",
       "4   79.032736  75.344376  1\n",
       "..        ...        ... ..\n",
       "95  83.489163  48.380286  1\n",
       "96  42.261701  87.103851  1\n",
       "97  99.315009  68.775409  1\n",
       "98  55.340018  64.931938  1\n",
       "99  74.775893  89.529813  1\n",
       "\n",
       "[100 rows x 3 columns]"
      ]
     },
     "execution_count": 4,
     "metadata": {},
     "output_type": "execute_result"
    }
   ],
   "source": [
    "data"
   ]
  },
  {
   "cell_type": "code",
   "execution_count": 5,
   "metadata": {},
   "outputs": [],
   "source": [
    "X_pos = data.loc[data[2] == 1]\n",
    "X_neg = data.loc[data[2] == 0]"
   ]
  },
  {
   "cell_type": "code",
   "execution_count": 6,
   "metadata": {},
   "outputs": [
    {
     "data": {
      "image/png": "[encoded data removed]",
      "text/plain": [
       "<Figure size 432x288 with 1 Axes>"
      ]
     },
     "metadata": {
      "needs_background": "light"
     },
     "output_type": "display_data"
    }
   ],
   "source": [
    "plt.plot(X_pos[0], X_pos[1], 'b+')\n",
    "plt.plot(X_neg[0], X_neg[1], 'yo')\n",
    "plt.show()"
   ]
  },
  {
   "cell_type": "code",
   "execution_count": 7,
   "metadata": {},
   "outputs": [],
   "source": [
    "X = data[[0, 1]].to_numpy().reshape((-1, 2))\n",
    "X = np.append(np.ones((X.shape[0], 1)), X, axis=1)\n",
    "y = data[2].to_numpy().reshape((-1,1))"
   ]
  },
  {
   "cell_type": "code",
   "execution_count": 12,
   "metadata": {},
   "outputs": [
    {
     "name": "stdout",
     "output_type": "stream",
     "text": [
      "Loss:  0.6982906893667754\n",
      "Loss:  0.22465413290134756\n",
      "Loss:  0.2104132393431071\n",
      "Loss:  0.20639265596473766\n",
      "Loss:  0.20484439924435047\n",
      "Loss:  0.20416128046402238\n",
      "Loss:  0.2038363896192235\n",
      "Loss:  0.20367458059447943\n",
      "Loss:  0.2035915270052311\n",
      "Loss:  0.203548014778906\n",
      "Loss:  0.20352489043162847\n",
      "Loss:  0.2035124758311441\n",
      "Loss:  0.20350576212620386\n",
      "Loss:  0.20350211216878422\n",
      "Loss:  0.20350012017018343\n",
      "Loss:  0.20349902993827565\n",
      "Loss:  0.2034984320050949\n",
      "Loss:  0.20349810356733097\n",
      "Loss:  0.203497922955533\n",
      "Loss:  0.20349782355158916\n",
      "Loss:  0.203497768808279\n"
     ]
    }
   ],
   "source": [
    "log_reg = LogisticRegression(2)\n",
    "\n",
    "epochs = 20000000\n",
    "log_reg.fit(X, y, epochs)"
   ]
  },
  {
   "cell_type": "code",
   "execution_count": 13,
   "metadata": {
    "scrolled": false
   },
   "outputs": [
    {
     "data": {
      "text/plain": [
       "array([[-25.14008046],\n",
       "       [  0.20606171],\n",
       "       [  0.20129964]])"
      ]
     },
     "execution_count": 13,
     "metadata": {},
     "output_type": "execute_result"
    }
   ],
   "source": [
    "log_reg.printweights()"
   ]
  },
  {
   "cell_type": "code",
   "execution_count": 14,
   "metadata": {},
   "outputs": [],
   "source": [
    "x1 = np.linspace(30, 100, 1000)\n",
    "theta = log_reg.printweights()\n",
    "x2 = -(theta[0] + theta[1]*x1)/theta[2]"
   ]
  },
  {
   "cell_type": "code",
   "execution_count": 15,
   "metadata": {},
   "outputs": [
    {
     "data": {
      "image/png": "[encoded data removed]",
      "text/plain": [
       "<Figure size 432x288 with 1 Axes>"
      ]
     },
     "metadata": {
      "needs_background": "light"
     },
     "output_type": "display_data"
    }
   ],
   "source": [
    "plt.plot(X_pos[0], X_pos[1], 'b+')\n",
    "plt.plot(X_neg[0], X_neg[1], 'yo')\n",
    "plt.plot(x1, x2, 'g-')\n",
    "plt.show()"
   ]
  },
  {
   "cell_type": "code",
   "execution_count": null,
   "metadata": {},
   "outputs": [],
   "source": []
  }
 ],
 "metadata": {
  "kernelspec": {
   "display_name": "Python 3",
   "language": "python",
   "name": "python3"
  },
  "language_info": {
   "codemirror_mode": {
    "name": "ipython",
    "version": 3
   },
   "file_extension": ".py",
   "mimetype": "text/x-python",
   "name": "python",
   "nbconvert_exporter": "python",
   "pygments_lexer": "ipython3",
   "version": "3.7.5"
  }
 },
 "nbformat": 4,
 "nbformat_minor": 2
}
